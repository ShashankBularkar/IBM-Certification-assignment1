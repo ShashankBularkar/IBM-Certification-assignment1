{
 "cells": [
  {
   "cell_type": "markdown",
   "id": "01a3610a",
   "metadata": {},
   "source": [
    "# Data Science tools and Ecosystem"
   ]
  },
  {
   "cell_type": "markdown",
   "id": "ed1b65a8",
   "metadata": {},
   "source": [
    "# Introduction\n",
    "\n",
    "This is the introduction to my notebook. I'm using a clear and readable font to convey information.\n"
   ]
  },
  {
   "cell_type": "markdown",
   "id": "c7c40864",
   "metadata": {},
   "source": [
    "**Objectives:\n",
    "* Python \n",
    "* R studio\n",
    "* Watson studio\n",
    "* MLlib"
   ]
  },
  {
   "cell_type": "markdown",
   "id": "dce1d01c",
   "metadata": {},
   "source": [
    "### Some of the popular languages that data scientists use are:\n",
    "1. Python\n",
    "2. Scala\n",
    "3. R\n",
    "4. Julia\n",
    "5. SAS\n",
    "6. Java\n",
    "7. SQL\n",
    "8. MATLAB\n",
    "9. Perl"
   ]
  },
  {
   "cell_type": "markdown",
   "id": "cf7d17ab",
   "metadata": {},
   "source": [
    "\n",
    "### Some of the commonly used libraries by data scientists include:\n",
    "1. Numpy\n",
    "2. Pandas\n",
    "3. Matplotlib\n",
    "4. Seaborn\n",
    "5. Scikit-learn\n",
    "6. Tensorflow\n",
    "7. Keras\n",
    "8. Pytorch\n",
    "9. Statsmodels\n",
    "10. SciPy\n",
    "11. NLTK\n",
    "12. Beautiful soul"
   ]
  },
  {
   "cell_type": "markdown",
   "id": "b8a9ddb9",
   "metadata": {},
   "source": [
    "# Table\n",
    "\n",
    "|Data Science Tools|\n",
    "|------------------|\n",
    "|Jupyter Notebooks |\n",
    "|RStudio           |\n",
    "|Spyder            |"
   ]
  },
  {
   "cell_type": "markdown",
   "id": "9a1f9bd6",
   "metadata": {},
   "source": [
    "### Below are a few examples of evaluating arithmetic expressions in python"
   ]
  },
  {
   "cell_type": "code",
   "execution_count": 3,
   "id": "ed8b4882",
   "metadata": {},
   "outputs": [
    {
     "data": {
      "text/plain": [
       "17"
      ]
     },
     "execution_count": 3,
     "metadata": {},
     "output_type": "execute_result"
    }
   ],
   "source": [
    "#This is a simple arithmetic expression to multiply then add integers\n",
    "(3*4)+5"
   ]
  },
  {
   "cell_type": "code",
   "execution_count": 4,
   "id": "c91eb991",
   "metadata": {},
   "outputs": [
    {
     "data": {
      "text/plain": [
       "3.3333333333333335"
      ]
     },
     "execution_count": 4,
     "metadata": {},
     "output_type": "execute_result"
    }
   ],
   "source": [
    "#This will convert 200 min to hours by dividing by 60\n",
    "200/60"
   ]
  },
  {
   "cell_type": "markdown",
   "id": "27670d58",
   "metadata": {},
   "source": [
    "## Author:\n",
    "Bullarkar Shashank"
   ]
  }
 ],
 "metadata": {
  "kernelspec": {
   "display_name": "Python 3 (ipykernel)",
   "language": "python",
   "name": "python3"
  },
  "language_info": {
   "codemirror_mode": {
    "name": "ipython",
    "version": 3
   },
   "file_extension": ".py",
   "mimetype": "text/x-python",
   "name": "python",
   "nbconvert_exporter": "python",
   "pygments_lexer": "ipython3",
   "version": "3.9.13"
  }
 },
 "nbformat": 4,
 "nbformat_minor": 5
}
